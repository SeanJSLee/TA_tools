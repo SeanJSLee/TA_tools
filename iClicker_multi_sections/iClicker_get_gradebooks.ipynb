{
 "cells": [
  {
   "cell_type": "code",
   "execution_count": null,
   "metadata": {
    "vscode": {
     "languageId": "python"
    }
   },
   "outputs": [],
   "source": [
    "# Seleniume version 4+\n",
    "from selenium import webdriver\n",
    "from selenium.webdriver.chrome.service import Service\n",
    "from selenium.webdriver.support.ui import WebDriverWait\n",
    "from selenium.webdriver.common.by import By\n",
    "from selenium.webdriver.support import expected_conditions as EC\n",
    "from bs4 import BeautifulSoup\n",
    "\n",
    "import pandas as pd\n",
    "import os, glob, datetime, time, pytz"
   ]
  },
  {
   "cell_type": "code",
   "execution_count": null,
   "metadata": {
    "vscode": {
     "languageId": "python"
    }
   },
   "outputs": [],
   "source": [
    "# Use driver manager - uncomment below line\n",
    "# service = Service(ChromeDriverManager().install())\n",
    "\n",
    "# Use local driver\n",
    "service = Service(executable_path= \"YOUR_PATH\")\n",
    "\n",
    "# Create Driver Instance\n",
    "driver = webdriver.Chrome(service=service)\n",
    "\n",
    "# wait funtion\n",
    "def loading_wait(driver, xpath, delay):\n",
    "    time.sleep(1)\n",
    "    try :\n",
    "        WebDriverWait(driver, delay).until(EC.presence_of_element_located((By.XPATH,xpath)))\n",
    "    except :\n",
    "        print('still wait')\n",
    "\n",
    "\n",
    "\n",
    "driver.get('https://instructor.iclicker.com/#/courses/list/active')\n",
    "# Please login"
   ]
  },
  {
   "cell_type": "code",
   "execution_count": null,
   "metadata": {
    "vscode": {
     "languageId": "python"
    }
   },
   "outputs": [],
   "source": [
    "delay = 180\n",
    "\n",
    "df_class_history_ref = pd.DataFrame(columns=['date'])\n",
    "\n",
    "# loop over sections\n",
    "for i in list([0,1,2])[:] :\n",
    "    driver.get('https://instructor.iclicker.com/#/courses/list/active')\n",
    "    xpath = '//td[@class = \"text-col ellipsis clickable\"]'\n",
    "    loading_wait(driver, xpath, delay)\n",
    "    sections = [row.text for row in driver.find_elements(By.XPATH,xpath)]\n",
    "    print(sections)\n",
    "    section = sections[i]\n",
    "    print(section) \n",
    "    # start\n",
    "    driver.find_element(By.XPATH,'//button[contains(text(), \"{sec}\")]'.format(sec=section)).click()\n",
    "    # \n",
    "    # get the class history for renaming\n",
    "    time.sleep(3)\n",
    "    # refreshing to avoid automated Chorme detection\n",
    "    driver.get(driver.current_url)\n",
    "    time.sleep(3)\n",
    "    # \n",
    "    # load more\n",
    "    while True : \n",
    "        try :\n",
    "            driver.find_element(By.XPATH, '//button[@class = \"btn loadMore\"]').click()\n",
    "            time.sleep(1)\n",
    "        except :\n",
    "            print ('done')\n",
    "            break\n",
    "    # \n",
    "    # load table \n",
    "    elm = driver.find_element(By.XPATH, \"//*[@id='class-history']/div[2]/div/app-list/div/table\")\n",
    "    # BS soup reading\n",
    "    soup = BeautifulSoup(elm.get_attribute('outerHTML'))\n",
    "    # blank df\n",
    "    df_history = pd.DataFrame()\n",
    "    # \n",
    "    for idx, lecture in enumerate(soup.find_all('tr', class_='table-body-row')[:]) :\n",
    "        i_date = lecture.findAll('span', class_='date')[0].get_text()\n",
    "        for idx_tab, tabs in enumerate(lecture.findAll('table', class_='secondaryTable highlight-table')) :\n",
    "            i_poll = tabs.findAll('button')[0].get_text().strip()\n",
    "            i_attn = tabs.findAll('button')[1].get_text().strip()\n",
    "            # print(idx, i_date, i_poll, i_attn)\n",
    "            df_history = pd.concat([df_history, pd.DataFrame({'date':[i_date], 'poll_sec_{0}'.format(i+1):[i_poll]})])\n",
    "    # \n",
    "    df_history['date'] = pd.to_datetime(df_history['date']).dt.strftime('%Y-%m-%d')\n",
    "    df_history = df_history.sort_values(['date']).reset_index(drop=True)\n",
    "    fname_hist = r'class_history {:%m-%d-%y} '.format(datetime.datetime.now()) + r'sec {0}.xlsx'.format(i+1)\n",
    "    df_history.to_excel(fname_hist)\n",
    "    # df_history\n",
    "    \n",
    "    # get the gradebook\n",
    "    xpath = '//span[contains(text(), \"Gradebook\")]'\n",
    "    loading_wait(driver, xpath, delay)\n",
    "    driver.find_element(By.XPATH,xpath).click()\n",
    "\n",
    "    xpath = '//button[contains(text(), \"Export\")]'\n",
    "    loading_wait(driver, xpath, delay)\n",
    "    driver.find_element(By.XPATH,xpath).click()\n",
    "\n",
    "    xpath = '//input[@aria-label=\"Select All Sessions\"]'\n",
    "    loading_wait(driver, xpath, delay)\n",
    "    driver.find_element(By.XPATH,xpath).click()\n",
    "\n",
    "    xpath = '//button[@type = \"submit\" and contains(text(), \"Export\")]'\n",
    "    loading_wait(driver, xpath, delay)\n",
    "    driver.find_element(By.XPATH,xpath).click()\n",
    "    time.sleep(2)\n",
    "\n",
    "    xpath = '//button[@type = \"button\" and contains(text(), \"Close\")]'\n",
    "    loading_wait(driver, xpath, delay)\n",
    "    driver.find_element(By.XPATH,xpath).click()\n",
    "\n",
    "    time.sleep(2)\n",
    "\n",
    "    # modify file name and save it to onedrive.\n",
    "    roster_down = sorted(glob.glob(os.path.expanduser(\"~\")+'/Downloads/*.csv'), key=os.path.getatime, reverse=True)[0]\n",
    "    roster_down\n",
    "\n",
    "    if roster_down.endswith('iClicker_GradesExport_Reef_{:%m-%d-%y}.csv'.format(datetime.datetime.now(pytz.timezone('GMT')))) :\n",
    "        print(\"file name matched\")\n",
    "        fname = 'Admin - iClicker/roster iClicker {:%m-%d-%y} '.format(datetime.datetime.now()) + 'Sec {0}.csv'.format(section[16:17])\n",
    "        print(fname)\n",
    "        try :\n",
    "            os.remove(fname)\n",
    "            os.rename(roster_down, fname)\n",
    "        except :\n",
    "            os.rename(roster_down, fname)\n"
   ]
  }
 ],
 "metadata": {
  "kernelspec": {
   "display_name": "Stata",
   "language": "stata",
   "name": "stata"
  },
  "language_info": {
   "name": "stata"
  },
  "orig_nbformat": 4
 },
 "nbformat": 4,
 "nbformat_minor": 2
}
